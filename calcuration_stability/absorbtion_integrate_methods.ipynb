{
 "cells": [
  {
   "cell_type": "code",
   "execution_count": 1,
   "id": "cdbcc651",
   "metadata": {},
   "outputs": [],
   "source": [
    "import numpy as np\n",
    "import astropy.units as u\n",
    "import os\n",
    "from astropy.constants import M_sun\n",
    "from astropy.coordinates import Distance\n",
    "import matplotlib.pyplot as plt\n",
    "\n",
    "from agnpy.targets import SphericalShellBLR, lines_dictionary\n",
    "\n",
    "from agnpy.absorption import Absorption\n",
    "from agnpy.utils.plot import load_mpl_rc\n",
    "\n",
    "from gammapy.modeling.models import (\n",
    "    EBLAbsorptionNormSpectralModel,\n",
    "    LogParabolaSpectralModel\n",
    ")\n",
    "\n",
    "from gammapy.modeling import Parameter\n",
    "\n",
    "import agnpy \n",
    "\n",
    "from astropy.io import fits\n",
    "from astropy import units as u\n",
    "\n",
    "from scipy import integrate\n",
    "\n",
    "from scipy.integrate import quad, nquad\n",
    "\n",
    "\n",
    "from agnpy.utils.math import (\n",
    "    axes_reshaper,\n",
    "    log,\n",
    "    mu_to_integrate,\n",
    "    phi_to_integrate,\n",
    "    min_rel_distance\n",
    ")\n",
    "\n",
    "from agnpy.utils.geometry import (\n",
    "    cos_psi,\n",
    "    x_re_shell,\n",
    "    mu_star_shell,\n",
    "    x_re_ring,\n",
    "    x_re_ring_mu_s,\n",
    "    phi_mu_re_shell,\n",
    "    phi_mu_re_ring,\n",
    "    x_re_shell_mu_s,\n",
    ")\n",
    "\n",
    "from agnpy.utils.conversion import nu_to_epsilon_prime\n",
    "\n",
    "from astropy.constants import c, G, m_e, sigma_T"
   ]
  },
  {
   "cell_type": "markdown",
   "id": "9204aaed",
   "metadata": {},
   "source": [
    "dobrze byłby jakbyś przedyskutował z Cosimo tę implementacje absorpcji po liście linii, bo to ciągle jest tylko w Twoim prywatnym kodzie i to czy można przyspieszyć obliczenia (i zrobić je bardziej odpornymi na neiwielkie zmiany parametrów wejściowych)\n",
    "https://docs.scipy.org/doc/scipy/tutorial/integrate.html tutaj jest kilka metod do całek\n",
    "w szczególności ta: https://docs.scipy.org/doc/scipy/reference/generated/scipy.integrate.nquad.html#scipy.integrate.nquad"
   ]
  },
  {
   "cell_type": "code",
   "execution_count": 2,
   "id": "183976f0",
   "metadata": {},
   "outputs": [],
   "source": [
    "import scipy.integrate"
   ]
  },
  {
   "cell_type": "code",
   "execution_count": null,
   "id": "75d0deb1",
   "metadata": {},
   "outputs": [],
   "source": []
  },
  {
   "cell_type": "code",
   "execution_count": 9,
   "id": "9c39b13e",
   "metadata": {},
   "outputs": [],
   "source": [
    "func = lambda x0,x1,x2,x3 : x0**2 + x1*x2 - x3**3 + np.sin(x0) + (\n",
    "                                1 if (x0-.2*x3-.5-.25*x1>0) else 0)\n",
    "\n",
    "def opts0(*args, **kwargs):\n",
    "    return {'points':[0.2*args[2] + 0.5 + 0.25*args[0]]}"
   ]
  },
  {
   "cell_type": "code",
   "execution_count": 10,
   "id": "31d8081c",
   "metadata": {},
   "outputs": [
    {
     "data": {
      "text/plain": [
       "(1.5267454070738635, 2.943736000140233e-14, {'neval': 388962})"
      ]
     },
     "execution_count": 10,
     "metadata": {},
     "output_type": "execute_result"
    }
   ],
   "source": [
    "integrate.nquad(func, [[0,1], [-1,1], [.13,.8], [-.15,1]],\n",
    "                opts=[opts0,{},{},{}], full_output=True)"
   ]
  },
  {
   "cell_type": "code",
   "execution_count": 11,
   "id": "1811933d",
   "metadata": {},
   "outputs": [
    {
     "data": {
      "text/plain": [
       "(1.5267454070738635, 2.943736000140233e-14)"
      ]
     },
     "execution_count": 11,
     "metadata": {},
     "output_type": "execute_result"
    }
   ],
   "source": [
    "integrate.nquad(func, [[0,1], [-1,1], [.13,.8], [-.15,1]], opts=[opts0,{},{},{}])"
   ]
  },
  {
   "cell_type": "code",
   "execution_count": 42,
   "id": "83ddb19e",
   "metadata": {},
   "outputs": [],
   "source": [
    "f = lambda x,a : a*x\n",
    "\n",
    "y, err = integrate.quad(f, 0, 1, args=(1,))"
   ]
  },
  {
   "cell_type": "code",
   "execution_count": 37,
   "id": "5a3c6edf",
   "metadata": {},
   "outputs": [
    {
     "ename": "IndexError",
     "evalue": "tuple index out of range",
     "output_type": "error",
     "traceback": [
      "\u001b[0;31m---------------------------------------------------------------------------\u001b[0m",
      "\u001b[0;31mIndexError\u001b[0m                                Traceback (most recent call last)",
      "\u001b[0;32m<ipython-input-37-7fda62e5fe28>\u001b[0m in \u001b[0;36m<module>\u001b[0;34m\u001b[0m\n\u001b[0;32m----> 1\u001b[0;31m \u001b[0mopts0\u001b[0m\u001b[0;34m(\u001b[0m\u001b[0;34m[\u001b[0m\u001b[0;34m[\u001b[0m\u001b[0;36m0\u001b[0m\u001b[0;34m,\u001b[0m\u001b[0;36m1\u001b[0m\u001b[0;34m]\u001b[0m\u001b[0;34m,\u001b[0m \u001b[0;34m[\u001b[0m\u001b[0;34m-\u001b[0m\u001b[0;36m1\u001b[0m\u001b[0;34m,\u001b[0m\u001b[0;36m1\u001b[0m\u001b[0;34m]\u001b[0m\u001b[0;34m,\u001b[0m \u001b[0;34m[\u001b[0m\u001b[0;36m.13\u001b[0m\u001b[0;34m,\u001b[0m\u001b[0;36m.8\u001b[0m\u001b[0;34m]\u001b[0m\u001b[0;34m,\u001b[0m \u001b[0;34m[\u001b[0m\u001b[0;34m-\u001b[0m\u001b[0;36m.15\u001b[0m\u001b[0;34m,\u001b[0m\u001b[0;36m1\u001b[0m\u001b[0;34m]\u001b[0m\u001b[0;34m]\u001b[0m\u001b[0;34m)\u001b[0m\u001b[0;34m\u001b[0m\u001b[0m\n\u001b[0m",
      "\u001b[0;32m<ipython-input-28-d4616b155f85>\u001b[0m in \u001b[0;36mopts0\u001b[0;34m(*args, **kwargs)\u001b[0m\n\u001b[1;32m      3\u001b[0m \u001b[0;34m\u001b[0m\u001b[0m\n\u001b[1;32m      4\u001b[0m \u001b[0;32mdef\u001b[0m \u001b[0mopts0\u001b[0m\u001b[0;34m(\u001b[0m\u001b[0;34m*\u001b[0m\u001b[0margs\u001b[0m\u001b[0;34m,\u001b[0m \u001b[0;34m**\u001b[0m\u001b[0mkwargs\u001b[0m\u001b[0;34m)\u001b[0m\u001b[0;34m:\u001b[0m\u001b[0;34m\u001b[0m\u001b[0m\n\u001b[0;32m----> 5\u001b[0;31m     \u001b[0;32mreturn\u001b[0m \u001b[0;34m{\u001b[0m\u001b[0;34m'points'\u001b[0m\u001b[0;34m:\u001b[0m\u001b[0;34m[\u001b[0m\u001b[0;36m0.2\u001b[0m\u001b[0;34m*\u001b[0m\u001b[0margs\u001b[0m\u001b[0;34m[\u001b[0m\u001b[0;36m2\u001b[0m\u001b[0;34m]\u001b[0m \u001b[0;34m+\u001b[0m \u001b[0;36m0.5\u001b[0m \u001b[0;34m+\u001b[0m \u001b[0;36m0.25\u001b[0m\u001b[0;34m*\u001b[0m\u001b[0margs\u001b[0m\u001b[0;34m[\u001b[0m\u001b[0;36m0\u001b[0m\u001b[0;34m]\u001b[0m\u001b[0;34m]\u001b[0m\u001b[0;34m}\u001b[0m\u001b[0;34m\u001b[0m\u001b[0m\n\u001b[0m",
      "\u001b[0;31mIndexError\u001b[0m: tuple index out of range"
     ]
    }
   ],
   "source": [
    "opts0()"
   ]
  },
  {
   "cell_type": "code",
   "execution_count": 4,
   "id": "0d3b959f",
   "metadata": {},
   "outputs": [],
   "source": [
    "def test_matching_quad(self):\n",
    "    def func(x):\n",
    "        return x**2 + 1\n",
    "\n",
    "    res, reserr = quad(func, 0, 4)\n",
    "    res2, reserr2 = nquad(func, ranges=[[0, 4]])\n",
    "    assert_almost_equal(res, res2)\n",
    "    assert_almost_equal(reserr, reserr2)"
   ]
  },
  {
   "cell_type": "code",
   "execution_count": 5,
   "id": "19ef8ba3",
   "metadata": {},
   "outputs": [],
   "source": [
    "def func(x):\n",
    "    return x**2 + 1"
   ]
  },
  {
   "cell_type": "code",
   "execution_count": 6,
   "id": "771c4dc3",
   "metadata": {},
   "outputs": [],
   "source": [
    "res, reserr = quad(func, 0, 5)\n",
    "res2, reserr2 = nquad(func, ranges=[[0, 5]])"
   ]
  },
  {
   "cell_type": "code",
   "execution_count": 27,
   "id": "ad376580",
   "metadata": {},
   "outputs": [],
   "source": [
    "N = 5\n",
    "\n",
    "def f(t, x):\n",
    "    return np.exp(-x*t) / t**N\n",
    "\n"
   ]
  },
  {
   "cell_type": "code",
   "execution_count": 30,
   "id": "1bc48ac9",
   "metadata": {},
   "outputs": [
    {
     "data": {
      "text/plain": [
       "(0.2000000000189363, 1.3682975855986131e-08)"
      ]
     },
     "execution_count": 30,
     "metadata": {},
     "output_type": "execute_result"
    }
   ],
   "source": [
    "integrate.nquad(f, [[1, np.inf],[0, np.inf]])"
   ]
  },
  {
   "cell_type": "code",
   "execution_count": 35,
   "id": "ddb5a50c",
   "metadata": {},
   "outputs": [
    {
     "data": {
      "text/plain": [
       "(0.19999889370959617, 0.0024561464081052395)"
      ]
     },
     "execution_count": 35,
     "metadata": {},
     "output_type": "execute_result"
    }
   ],
   "source": [
    "integrate.nquad(f, [[1, np.inf],[0, np.inf]], opts={'epsabs':0.01, 'epsrel':0.01})"
   ]
  },
  {
   "cell_type": "code",
   "execution_count": 10,
   "id": "842a7aa5",
   "metadata": {},
   "outputs": [],
   "source": [
    "integrate.nquad?"
   ]
  },
  {
   "cell_type": "code",
   "execution_count": 19,
   "id": "0eaa5b20",
   "metadata": {},
   "outputs": [
    {
     "data": {
      "text/plain": [
       "46.66666666666667"
      ]
     },
     "execution_count": 19,
     "metadata": {},
     "output_type": "execute_result"
    }
   ],
   "source": [
    "res2"
   ]
  },
  {
   "cell_type": "code",
   "execution_count": 21,
   "id": "c308915b",
   "metadata": {},
   "outputs": [],
   "source": [
    "np.trapz?"
   ]
  },
  {
   "cell_type": "code",
   "execution_count": 28,
   "id": "312ae9f1",
   "metadata": {},
   "outputs": [],
   "source": [
    "E = np.logspace(2, 6) * u.MeV\n",
    "nu = E.to(\"Hz\", equivalencies=u.spectral())\n",
    "L_Hbeta=8.93e43*u.Unit(\"erg s-1\")\n",
    "R_Hbeta=5.93e17 * u.cm\n",
    "z = 1.032 \n",
    "xi_line = 0.1    \n",
    "\n",
    "blr = SphericalShellBLR(L_Hbeta, xi_line, 'Hbeta', R_Hbeta)"
   ]
  },
  {
   "cell_type": "code",
   "execution_count": 29,
   "id": "6757390a",
   "metadata": {},
   "outputs": [
    {
     "data": {
      "text/plain": [
       "<agnpy.targets.targets.SphericalShellBLR at 0x7f861b4c9cf8>"
      ]
     },
     "execution_count": 29,
     "metadata": {},
     "output_type": "execute_result"
    }
   ],
   "source": [
    "blr"
   ]
  },
  {
   "cell_type": "code",
   "execution_count": 27,
   "id": "cd797534",
   "metadata": {},
   "outputs": [
    {
     "name": "stdout",
     "output_type": "stream",
     "text": [
      "Lyepsilon\n",
      "Lydelta\n",
      "CIII\n",
      "NIII\n",
      "Lybeta\n",
      "OVI\n",
      "ArI\n",
      "Lyalpha\n",
      "OI\n",
      "SiII\n",
      "SiIV\n",
      "OIV]\n",
      "CIV\n",
      "NIV\n",
      "AlII\n",
      "CIII]\n",
      "[NeIV]\n",
      "MgII\n",
      "Hdelta\n",
      "Hgamma\n",
      "HeII\n",
      "Hbeta\n",
      "[ClIII]\n",
      "HeI\n",
      "Halpha\n"
     ]
    }
   ],
   "source": [
    "for line in list(lines_dictionary.keys()):\n",
    "    print(line)\n",
    "    xi_line_this=lines_dictionary[line]['L_Hbeta_ratio']\n",
    "    R_line_this=R_Hbeta*lines_dictionary[line]['R_Hbeta_ratio']\n",
    "        \n",
    "    #blrs[line] = SphericalShellBLR(LHbeta, xi_line_this, line, R_line_this)"
   ]
  },
  {
   "cell_type": "code",
   "execution_count": 43,
   "id": "9c35618b",
   "metadata": {},
   "outputs": [],
   "source": [
    "def evaluate_tau_blr(\n",
    "        nu,\n",
    "        z,\n",
    "        mu_s,\n",
    "        L_disk,\n",
    "        xi_line,\n",
    "        epsilon_line,\n",
    "        R_line,\n",
    "        r,\n",
    "        l_size=50,\n",
    "        mu=mu_to_integrate,\n",
    "        phi=phi_to_integrate,\n",
    "    ):\n",
    "        \"\"\"Evaluates the gamma-gamma absorption produced by a spherical shell\n",
    "        BLR for a general set of model parameters\n",
    "\n",
    "        Parameters\n",
    "        ----------\n",
    "        nu : :class:`~astropy.units.Quantity`\n",
    "            array of frequencies, in Hz, to compute the tau\n",
    "            **note** these are observed frequencies (observer frame)\n",
    "        z : float\n",
    "            redshift of the source\n",
    "        mu_s : float\n",
    "            cosine of the angle between the blob motion and the jet axis\n",
    "        L_disk : :class:`~astropy.units.Quantity`\n",
    "            Luminosity of the disk whose radiation is being reprocessed by the BLR\n",
    "        xi_line : float\n",
    "            fraction of the disk radiation reprocessed by the BLR\n",
    "        epsilon_line : string\n",
    "            dimensionless energy of the emitted line\n",
    "        R_line : :class:`~astropy.units.Quantity`\n",
    "            radius of the BLR spherical shell\n",
    "        r : :class:`~astropy.units.Quantity`\n",
    "            distance between the Broad Line Region and the blob\n",
    "        l_size : int\n",
    "            size of the array of distances from the BH to integrate over\n",
    "        mu, phi : :class:`~numpy.ndarray`\n",
    "            arrays of cosine of zenith and azimuth angles to integrate over\n",
    "\n",
    "        Returns\n",
    "        -------\n",
    "        :class:`~astropy.units.Quantity`\n",
    "            array of the tau values corresponding to each frequency\n",
    "        \"\"\"\n",
    "        # conversions\n",
    "        epsilon_1 = nu_to_epsilon_prime(nu, z)\n",
    "        # multidimensional integration\n",
    "        l = np.logspace(0, 5, l_size) * r\n",
    "\n",
    "        # check if any point is too close to R_line, the function works only for mu=1, so\n",
    "        # we can check directly if R_line is within 'l' array\n",
    "        idx = np.isclose(l, R_line, rtol=min_rel_distance)\n",
    "        l[idx] += min_rel_distance * R_line\n",
    "\n",
    "        _mu, _phi, _l, _epsilon_1 = axes_reshaper(mu, phi, l, epsilon_1)\n",
    "        x = x_re_shell(_mu, R_line, _l)\n",
    "        _mu_star = mu_star_shell(_mu, R_line, _l)\n",
    "        _cos_psi = cos_psi(mu_s, _mu_star, _phi)\n",
    "        s = _epsilon_1 * epsilon_line * (1 - _cos_psi) / 2\n",
    "        integrand = (1 - _cos_psi) / x ** 2 * sigma(s)\n",
    "        # integrate\n",
    "        integral_mu = np.trapz(integrand, mu, axis=0)\n",
    "        integral_phi = np.trapz(integral_mu, phi, axis=0)\n",
    "        integral = np.trapz(integral_phi, l, axis=0)\n",
    "        print(integral)\n",
    "        prefactor = (L_disk * xi_line) / (\n",
    "            (4 * np.pi) ** 2 * epsilon_line * m_e * c ** 3\n",
    "        )\n",
    "        return (prefactor * integral).to_value(\"\")\n",
    "    \n",
    "def sigma(s):\n",
    "    \"\"\"photon-photon pair production cross section, Eq. 17 of [Dermer2009]\"\"\"\n",
    "    beta_cm = np.sqrt(1 - 1 / s)\n",
    "    prefactor = 3 / 16 * sigma_T * (1 - np.power(beta_cm, 2))\n",
    "    term1 = (3 - np.power(beta_cm, 4)) * log((1 + beta_cm) / (1 - beta_cm))\n",
    "    term2 = -2 * beta_cm * (2 - np.power(beta_cm, 2))\n",
    "    values = prefactor * (term1 + term2)\n",
    "    values[s < 1] = 0\n",
    "    return values"
   ]
  },
  {
   "cell_type": "code",
   "execution_count": 44,
   "id": "73461fb8",
   "metadata": {},
   "outputs": [
    {
     "name": "stdout",
     "output_type": "stream",
     "text": [
      "[3.9627031e-46] m2 / cm\n"
     ]
    }
   ],
   "source": [
    "\n",
    "E = np.logspace(2, 6) * u.MeV\n",
    "nu = E.to(\"Hz\", equivalencies=u.spectral())\n",
    "nu = 3*1e25*u.Hz\n",
    "z = 1.032 \n",
    "mu_s = 1\n",
    "L_disk=8.93e43*u.Unit(\"erg s-1\")\n",
    "R_line=5.93e17 * u.cm\n",
    "xi_line = 0.1    \n",
    "epsilon_line = 4.9896564007565614e-06\n",
    "r = 1e16*u.cm\n",
    "\n",
    "result = evaluate_tau_blr(\n",
    "            nu,\n",
    "            z,\n",
    "            mu_s,\n",
    "            L_disk,\n",
    "            xi_line,\n",
    "            epsilon_line,\n",
    "            R_line,\n",
    "            r,\n",
    "            l_size=50,\n",
    "            mu=mu_to_integrate,\n",
    "            phi=phi_to_integrate,\n",
    "        )"
   ]
  },
  {
   "cell_type": "code",
   "execution_count": 45,
   "id": "bebae103",
   "metadata": {},
   "outputs": [
    {
     "data": {
      "text/plain": [
       "array([1.82979114])"
      ]
     },
     "execution_count": 45,
     "metadata": {},
     "output_type": "execute_result"
    }
   ],
   "source": [
    "result"
   ]
  },
  {
   "cell_type": "code",
   "execution_count": 8,
   "id": "b36ff491",
   "metadata": {},
   "outputs": [
    {
     "data": {
      "text/latex": [
       "$3 \\times 10^{25} \\; \\mathrm{Hz}$"
      ],
      "text/plain": [
       "<Quantity 3.e+25 Hz>"
      ]
     },
     "execution_count": 8,
     "metadata": {},
     "output_type": "execute_result"
    }
   ],
   "source": [
    "nu"
   ]
  },
  {
   "cell_type": "code",
   "execution_count": null,
   "id": "e0619728",
   "metadata": {},
   "outputs": [],
   "source": []
  },
  {
   "cell_type": "markdown",
   "id": "c1f30c93",
   "metadata": {},
   "source": [
    "$\\tau_{\\gamma \\gamma}(\\nu) = \\int_{r}^{\\infty} {\\rm d}l \\; \\int_{0}^{2\\pi} {\\rm d}\\phi \\;\n",
    "                            \\int_{-1}^{1} {\\rm d}\\mu \\; (1 - \\cos\\psi) \\int_{0}^{\\infty} {\\rm d}\\epsilon \\;\n",
    "                            \\frac{u(\\epsilon, \\mu, \\phi; l)}{\\epsilon m_e c^2} \\, \\sigma_{\\gamma \\gamma}(s), $\n",
    "                            \n",
    "where: \n",
    "  \n",
    "  - $ \\cos\\psi = \\mu\\mu_s + \\sqrt{1 - \\mu^2}\\sqrt{1 - \\mu_s^2} \\cos\\phi$ is the cosine of the angle between the hitting and the absorbing photon;\n",
    "  \n",
    "  - $ u(\\epsilon, \\mu, \\phi; l)`$ is the energy density of the target photon field with $\\epsilon$ dimensionless energy, $(\\mu, \\phi)$ solid angle, $l$ distance of the blob from the photon field;\n",
    "  \n",
    "  - $ \\sigma_{\\gamma \\gamma}(s)$ is the pair-production cross section, with $s = \\epsilon_1 \\epsilon \\, (1 - \\cos\\psi)\\,/\\,2$ and $\\epsilon_1 = h \\nu\\,/\\,(m_e c^2)$ the dimensionless hitting photon energy.\n",
    "  \n",
    "Basic formulas are borrowed from [Finke2016]_. The approach presented therein (and in [Dermer2009]_) simplifies the integration by assuming that the hitting photons travels in the direction parallel to the jet axis ($\\mu_s \\rightarrow 1$), decoupling the cross section and the $(1 - \\cos\\psi)$ term from the integral on $\\phi$. The optical depths thus calculated are therefore valid only for blazars."
   ]
  },
  {
   "cell_type": "code",
   "execution_count": null,
   "id": "7c08da4f",
   "metadata": {},
   "outputs": [],
   "source": []
  },
  {
   "cell_type": "code",
   "execution_count": 51,
   "id": "a43cbfcd",
   "metadata": {},
   "outputs": [],
   "source": [
    "def cos_psi_test(mu, phi):\n",
    "    \"\"\"compute the angle between the blob (with zenith mu_s) and a photon with\n",
    "    zenith and azimuth (mu, phi). The system is symmetric in azimuth for the\n",
    "    electron phi_s = 0, Eq. 8 in [Finke2016]_.\"\"\"\n",
    "    mu_s = 1\n",
    "    term_1 = mu * mu_s\n",
    "    term_2 = np.sqrt(1 - np.power(mu, 2)) * np.sqrt(1 - np.power(mu_s, 2))\n",
    "    term_3 = np.cos(phi)\n",
    "    return term_1 + term_2 * term_3\n",
    "\n",
    "def evaluate_tau_blr(\n",
    "        nu,\n",
    "        z,\n",
    "        mu_s,\n",
    "        L_disk,\n",
    "        xi_line,\n",
    "        epsilon_line,\n",
    "        R_line,\n",
    "        r,\n",
    "        l_size=50,\n",
    "        mu=mu_to_integrate,\n",
    "        phi=phi_to_integrate,\n",
    "    ):\n",
    "        \"\"\"Evaluates the gamma-gamma absorption produced by a spherical shell\n",
    "        BLR for a general set of model parameters\n",
    "\n",
    "        Parameters\n",
    "        ----------\n",
    "        nu : :class:`~astropy.units.Quantity`\n",
    "            array of frequencies, in Hz, to compute the tau\n",
    "            **note** these are observed frequencies (observer frame)\n",
    "        z : float\n",
    "            redshift of the source\n",
    "        mu_s : float\n",
    "            cosine of the angle between the blob motion and the jet axis\n",
    "        L_disk : :class:`~astropy.units.Quantity`\n",
    "            Luminosity of the disk whose radiation is being reprocessed by the BLR\n",
    "        xi_line : float\n",
    "            fraction of the disk radiation reprocessed by the BLR\n",
    "        epsilon_line : string\n",
    "            dimensionless energy of the emitted line\n",
    "        R_line : :class:`~astropy.units.Quantity`\n",
    "            radius of the BLR spherical shell\n",
    "        r : :class:`~astropy.units.Quantity`\n",
    "            distance between the Broad Line Region and the blob\n",
    "        l_size : int\n",
    "            size of the array of distances from the BH to integrate over\n",
    "        mu, phi : :class:`~numpy.ndarray`\n",
    "            arrays of cosine of zenith and azimuth angles to integrate over\n",
    "\n",
    "        Returns\n",
    "        -------\n",
    "        :class:`~astropy.units.Quantity`\n",
    "            array of the tau values corresponding to each frequency\n",
    "        \"\"\"\n",
    "        # conversions\n",
    "        epsilon_1 = nu_to_epsilon_prime(nu, z)\n",
    "        # multidimensional integration\n",
    "        #l = np.logspace(0, 5, l_size) * r\n",
    "\n",
    "        # check if any point is too close to R_line, the function works only for mu=1, so\n",
    "        # we can check directly if R_line is within 'l' array\n",
    "        #idx = np.isclose(l, R_line, rtol=min_rel_distance)\n",
    "        #l[idx] += min_rel_distance * R_line\n",
    "\n",
    "        #_mu, _phi, _l, _epsilon_1 = axes_reshaper(mu, phi, l, epsilon_1)\n",
    "        #x = x_re_shell(_mu, R_line, _l)\n",
    "        #_mu_star = mu_star_shell(_mu, R_line, _l)\n",
    " #       _cos_psi = cos_psi(mu_s, _mu_star, _phi)\n",
    "        #_cos_psi = cos_psi_test(_mu_star, _phi)\n",
    "#        s = _epsilon_1 * epsilon_line * (1 - _cos_psi) / 2\n",
    "        \n",
    "#        integrand = (1 - _cos_psi) / x ** 2 * sigma(s)\n",
    "        \n",
    "        def f(mu, phi, log_l):\n",
    "            l = np.exp(log_l)\n",
    "            mu_star = mu_star_shell(mu, R_line.to_value('cm'), l)\n",
    "            _cos_psi = cos_psi(mu_s, mu_star, phi)\n",
    "            x = x_re_shell(mu, R_line.to_value('cm'), l)\n",
    "            s = epsilon_1 * epsilon_line * (1 - _cos_psi) / 2\n",
    "            integrand = (1 - _cos_psi)*l / x ** 2 * sigma(s).to_value(\"cm**2\")\n",
    "            return integrand\n",
    "        \n",
    "        I = integrate.nquad(f, ranges=[[-1, 1], [0, 2*np.pi], [np.log(r.to_value('cm')), np.log(1e5*r.to_value('cm'))]], \n",
    "                           opts={'epsabs':0.01, 'epsrel':0.01})\n",
    "        print(I)\n",
    "        integral = I*u.cm\n",
    "    \n",
    "        #I = 2*np.pi*r*2/ (x**2 * sigma(s))\n",
    "        #print(I)\n",
    "        \n",
    "#        integral_mu = np.trapz(integrand, mu, axis=0)\n",
    "#        integral_phi = np.trapz(integral_mu, phi, axis=0)\n",
    "#        integral = np.trapz(integral_phi, l, axis=0)\n",
    "\n",
    "        #integral_mu = scipy.integrate.simps(integrand, mu, axis=0)\n",
    "        #integral_phi = scipy.integrate.simps(integral_mu, phi, axis=0)\n",
    "        #I = scipy.integrate.simps(integral_phi, l, axis=0)\n",
    "        #integral = I*u.m**2 / u.cm\n",
    "        #print(integral)\n",
    "            \n",
    "        prefactor = (L_disk * xi_line) / (\n",
    "            (4 * np.pi) ** 2 * epsilon_line * m_e * c ** 3\n",
    "        )\n",
    "        return (prefactor * integral).to_value(\"\")\n",
    "        \n",
    "def fun1(mu, phi, l):\n",
    "    \n",
    "    return (1 - mu)\n",
    "    \n",
    "def sigma(s):\n",
    "    \"\"\"photon-photon pair production cross section, Eq. 17 of [Dermer2009]\"\"\"\n",
    "    beta_cm = np.sqrt(1 - 1 / s)\n",
    "    prefactor = 3 / 16 * sigma_T * (1 - np.power(beta_cm, 2))\n",
    "    term1 = (3 - np.power(beta_cm, 4)) * log((1 + beta_cm) / (1 - beta_cm))\n",
    "    term2 = -2 * beta_cm * (2 - np.power(beta_cm, 2))\n",
    "    values = prefactor * (term1 + term2)\n",
    "    values[s < 1] = 0\n",
    "    return values"
   ]
  },
  {
   "cell_type": "code",
   "execution_count": 52,
   "id": "b2537c4d",
   "metadata": {},
   "outputs": [
    {
     "name": "stdout",
     "output_type": "stream",
     "text": [
      "(2.5226906538002067e-42, 2.7933023486441275e-42)\n"
     ]
    },
    {
     "data": {
      "text/plain": [
       "array([1.16486068, 1.28981651])"
      ]
     },
     "execution_count": 52,
     "metadata": {},
     "output_type": "execute_result"
    }
   ],
   "source": [
    "\n",
    "E = np.logspace(2, 6) * u.MeV\n",
    "nu = E.to(\"Hz\", equivalencies=u.spectral())\n",
    "nu = 3*1e25*u.Hz\n",
    "z = 1.032 \n",
    "mu_s = 1\n",
    "L_disk=8.93e43*u.Unit(\"erg s-1\")\n",
    "R_line=5.93e17 * u.cm\n",
    "xi_line = 0.1    \n",
    "epsilon_line = 4.9896564007565614e-06\n",
    "r = 1e16*u.cm\n",
    "\n",
    "evaluate_tau_blr(\n",
    "            nu,\n",
    "            z,\n",
    "            mu_s,\n",
    "            L_disk,\n",
    "            xi_line,\n",
    "            epsilon_line,\n",
    "            R_line,\n",
    "            r,\n",
    "            l_size=50,\n",
    "            mu=mu_to_integrate,\n",
    "            phi=phi_to_integrate,\n",
    "        )"
   ]
  },
  {
   "cell_type": "code",
   "execution_count": 48,
   "id": "b5f74024",
   "metadata": {},
   "outputs": [
    {
     "data": {
      "text/plain": [
       "0.9969486348916096"
      ]
     },
     "execution_count": 48,
     "metadata": {},
     "output_type": "execute_result"
    }
   ],
   "source": [
    "np.log(2.71)"
   ]
  },
  {
   "cell_type": "code",
   "execution_count": 41,
   "id": "56e0c7e2",
   "metadata": {},
   "outputs": [],
   "source": [
    "prefactor = (L_disk * xi_line) / (\n",
    "            (4 * np.pi) ** 2 * epsilon_line * m_e * c ** 3\n",
    "        )\n",
    "integ = 2.5079860552646397e-42*u.cm\n",
    "my_result = (prefactor * integ).to_value(\"\")"
   ]
  },
  {
   "cell_type": "code",
   "execution_count": 42,
   "id": "e1c81799",
   "metadata": {},
   "outputs": [
    {
     "data": {
      "text/plain": [
       "1.1580707798251888"
      ]
     },
     "execution_count": 42,
     "metadata": {},
     "output_type": "execute_result"
    }
   ],
   "source": [
    "my_result"
   ]
  },
  {
   "cell_type": "code",
   "execution_count": 18,
   "id": "0568763d",
   "metadata": {},
   "outputs": [
    {
     "data": {
      "text/plain": [
       "1e+16"
      ]
     },
     "execution_count": 18,
     "metadata": {},
     "output_type": "execute_result"
    }
   ],
   "source": [
    "r.to_value('cm')"
   ]
  },
  {
   "cell_type": "code",
   "execution_count": 77,
   "id": "dd2b7a4f",
   "metadata": {},
   "outputs": [
    {
     "name": "stdout",
     "output_type": "stream",
     "text": [
      "[3.9627031e-46] m2 / cm\n",
      "[1.82979114]\n"
     ]
    }
   ],
   "source": [
    "I = evaluate_tau_blr(\n",
    "            nu,\n",
    "            z,\n",
    "            mu_s,\n",
    "            L_disk,\n",
    "            xi_line,\n",
    "            epsilon_line,\n",
    "            R_line,\n",
    "            r,\n",
    "            l_size=50,\n",
    "            mu=mu_to_integrate,\n",
    "            phi=phi_to_integrate,\n",
    "        )\n",
    "print(I)"
   ]
  },
  {
   "cell_type": "code",
   "execution_count": 92,
   "id": "9d6fcd66",
   "metadata": {},
   "outputs": [
    {
     "name": "stdout",
     "output_type": "stream",
     "text": [
      "[3.76046545e-46] m2 / cm\n",
      "[1.73640724]\n"
     ]
    }
   ],
   "source": [
    "\n",
    "\n",
    "I = evaluate_tau_blr(\n",
    "            nu,\n",
    "            z,\n",
    "            mu_s,\n",
    "            L_disk,\n",
    "            xi_line,\n",
    "            epsilon_line,\n",
    "            R_line,\n",
    "            r,\n",
    "            l_size=50,\n",
    "            mu=mu_to_integrate,\n",
    "            phi=phi_to_integrate,\n",
    "        )\n",
    "print(I)"
   ]
  },
  {
   "cell_type": "code",
   "execution_count": 86,
   "id": "71ebd969",
   "metadata": {},
   "outputs": [
    {
     "data": {
      "text/plain": [
       "128"
      ]
     },
     "execution_count": 86,
     "metadata": {},
     "output_type": "execute_result"
    }
   ],
   "source": [
    "2**7"
   ]
  },
  {
   "cell_type": "code",
   "execution_count": 23,
   "id": "272f20f8",
   "metadata": {},
   "outputs": [
    {
     "data": {
      "text/plain": [
       "(100, 50, 50, 1)"
      ]
     },
     "execution_count": 23,
     "metadata": {},
     "output_type": "execute_result"
    }
   ],
   "source": [
    "integrand.shape"
   ]
  },
  {
   "cell_type": "code",
   "execution_count": 24,
   "id": "6bc718d5",
   "metadata": {},
   "outputs": [
    {
     "data": {
      "text/plain": [
       "(100,)"
      ]
     },
     "execution_count": 24,
     "metadata": {},
     "output_type": "execute_result"
    }
   ],
   "source": [
    "mu.shape"
   ]
  },
  {
   "cell_type": "code",
   "execution_count": 25,
   "id": "c9b79760",
   "metadata": {},
   "outputs": [
    {
     "data": {
      "text/plain": [
       "(50, 50, 1)"
      ]
     },
     "execution_count": 25,
     "metadata": {},
     "output_type": "execute_result"
    }
   ],
   "source": [
    "integral_mu.shape"
   ]
  },
  {
   "cell_type": "code",
   "execution_count": 26,
   "id": "46fa5933",
   "metadata": {},
   "outputs": [
    {
     "data": {
      "text/plain": [
       "array([-1.        , -0.97979798, -0.95959596, -0.93939394, -0.91919192,\n",
       "       -0.8989899 , -0.87878788, -0.85858586, -0.83838384, -0.81818182,\n",
       "       -0.7979798 , -0.77777778, -0.75757576, -0.73737374, -0.71717172,\n",
       "       -0.6969697 , -0.67676768, -0.65656566, -0.63636364, -0.61616162,\n",
       "       -0.5959596 , -0.57575758, -0.55555556, -0.53535354, -0.51515152,\n",
       "       -0.49494949, -0.47474747, -0.45454545, -0.43434343, -0.41414141,\n",
       "       -0.39393939, -0.37373737, -0.35353535, -0.33333333, -0.31313131,\n",
       "       -0.29292929, -0.27272727, -0.25252525, -0.23232323, -0.21212121,\n",
       "       -0.19191919, -0.17171717, -0.15151515, -0.13131313, -0.11111111,\n",
       "       -0.09090909, -0.07070707, -0.05050505, -0.03030303, -0.01010101,\n",
       "        0.01010101,  0.03030303,  0.05050505,  0.07070707,  0.09090909,\n",
       "        0.11111111,  0.13131313,  0.15151515,  0.17171717,  0.19191919,\n",
       "        0.21212121,  0.23232323,  0.25252525,  0.27272727,  0.29292929,\n",
       "        0.31313131,  0.33333333,  0.35353535,  0.37373737,  0.39393939,\n",
       "        0.41414141,  0.43434343,  0.45454545,  0.47474747,  0.49494949,\n",
       "        0.51515152,  0.53535354,  0.55555556,  0.57575758,  0.5959596 ,\n",
       "        0.61616162,  0.63636364,  0.65656566,  0.67676768,  0.6969697 ,\n",
       "        0.71717172,  0.73737374,  0.75757576,  0.77777778,  0.7979798 ,\n",
       "        0.81818182,  0.83838384,  0.85858586,  0.87878788,  0.8989899 ,\n",
       "        0.91919192,  0.93939394,  0.95959596,  0.97979798,  1.        ])"
      ]
     },
     "execution_count": 26,
     "metadata": {},
     "output_type": "execute_result"
    }
   ],
   "source": [
    "mu"
   ]
  },
  {
   "cell_type": "code",
   "execution_count": null,
   "id": "f25ae657",
   "metadata": {},
   "outputs": [],
   "source": []
  },
  {
   "cell_type": "code",
   "execution_count": 13,
   "id": "130fee54",
   "metadata": {},
   "outputs": [
    {
     "name": "stdout",
     "output_type": "stream",
     "text": [
      "[[[[0.00000000e+00]\n",
      "   [0.00000000e+00]\n",
      "   [0.00000000e+00]\n",
      "   ...\n",
      "   [0.00000000e+00]\n",
      "   [0.00000000e+00]\n",
      "   [0.00000000e+00]]\n",
      "\n",
      "  [[0.00000000e+00]\n",
      "   [0.00000000e+00]\n",
      "   [0.00000000e+00]\n",
      "   ...\n",
      "   [0.00000000e+00]\n",
      "   [0.00000000e+00]\n",
      "   [0.00000000e+00]]\n",
      "\n",
      "  [[0.00000000e+00]\n",
      "   [0.00000000e+00]\n",
      "   [0.00000000e+00]\n",
      "   ...\n",
      "   [0.00000000e+00]\n",
      "   [0.00000000e+00]\n",
      "   [0.00000000e+00]]\n",
      "\n",
      "  ...\n",
      "\n",
      "  [[0.00000000e+00]\n",
      "   [0.00000000e+00]\n",
      "   [0.00000000e+00]\n",
      "   ...\n",
      "   [0.00000000e+00]\n",
      "   [0.00000000e+00]\n",
      "   [0.00000000e+00]]\n",
      "\n",
      "  [[0.00000000e+00]\n",
      "   [0.00000000e+00]\n",
      "   [0.00000000e+00]\n",
      "   ...\n",
      "   [0.00000000e+00]\n",
      "   [0.00000000e+00]\n",
      "   [0.00000000e+00]]\n",
      "\n",
      "  [[0.00000000e+00]\n",
      "   [0.00000000e+00]\n",
      "   [0.00000000e+00]\n",
      "   ...\n",
      "   [0.00000000e+00]\n",
      "   [0.00000000e+00]\n",
      "   [0.00000000e+00]]]\n",
      "\n",
      "\n",
      " [[[2.40559616e-02]\n",
      "   [2.38479810e-02]\n",
      "   [2.35887195e-02]\n",
      "   ...\n",
      "   [2.21137568e-08]\n",
      "   [1.38276962e-08]\n",
      "   [8.64573216e-09]]\n",
      "\n",
      "  [[2.40559616e-02]\n",
      "   [2.38479810e-02]\n",
      "   [2.35887195e-02]\n",
      "   ...\n",
      "   [2.21137568e-08]\n",
      "   [1.38276962e-08]\n",
      "   [8.64573216e-09]]\n",
      "\n",
      "  [[2.40559616e-02]\n",
      "   [2.38479810e-02]\n",
      "   [2.35887195e-02]\n",
      "   ...\n",
      "   [2.21137568e-08]\n",
      "   [1.38276962e-08]\n",
      "   [8.64573216e-09]]\n",
      "\n",
      "  ...\n",
      "\n",
      "  [[2.40559616e-02]\n",
      "   [2.38479810e-02]\n",
      "   [2.35887195e-02]\n",
      "   ...\n",
      "   [2.21137568e-08]\n",
      "   [1.38276962e-08]\n",
      "   [8.64573216e-09]]\n",
      "\n",
      "  [[2.40559616e-02]\n",
      "   [2.38479810e-02]\n",
      "   [2.35887195e-02]\n",
      "   ...\n",
      "   [2.21137568e-08]\n",
      "   [1.38276962e-08]\n",
      "   [8.64573216e-09]]\n",
      "\n",
      "  [[2.40559616e-02]\n",
      "   [2.38479810e-02]\n",
      "   [2.35887195e-02]\n",
      "   ...\n",
      "   [2.21137568e-08]\n",
      "   [1.38276962e-08]\n",
      "   [8.64573216e-09]]]\n",
      "\n",
      "\n",
      " [[[4.81276590e-02]\n",
      "   [4.77154829e-02]\n",
      "   [4.72015336e-02]\n",
      "   ...\n",
      "   [4.37778880e-08]\n",
      "   [2.73740229e-08]\n",
      "   [1.71154303e-08]]\n",
      "\n",
      "  [[4.81276590e-02]\n",
      "   [4.77154829e-02]\n",
      "   [4.72015336e-02]\n",
      "   ...\n",
      "   [4.37778880e-08]\n",
      "   [2.73740229e-08]\n",
      "   [1.71154303e-08]]\n",
      "\n",
      "  [[4.81276590e-02]\n",
      "   [4.77154829e-02]\n",
      "   [4.72015336e-02]\n",
      "   ...\n",
      "   [4.37778880e-08]\n",
      "   [2.73740229e-08]\n",
      "   [1.71154303e-08]]\n",
      "\n",
      "  ...\n",
      "\n",
      "  [[4.81276590e-02]\n",
      "   [4.77154829e-02]\n",
      "   [4.72015336e-02]\n",
      "   ...\n",
      "   [4.37778880e-08]\n",
      "   [2.73740229e-08]\n",
      "   [1.71154303e-08]]\n",
      "\n",
      "  [[4.81276590e-02]\n",
      "   [4.77154829e-02]\n",
      "   [4.72015336e-02]\n",
      "   ...\n",
      "   [4.37778880e-08]\n",
      "   [2.73740229e-08]\n",
      "   [1.71154303e-08]]\n",
      "\n",
      "  [[4.81276590e-02]\n",
      "   [4.77154829e-02]\n",
      "   [4.72015336e-02]\n",
      "   ...\n",
      "   [4.37778880e-08]\n",
      "   [2.73740229e-08]\n",
      "   [1.71154303e-08]]]\n",
      "\n",
      "\n",
      " ...\n",
      "\n",
      "\n",
      " [[[2.41031840e+00]\n",
      "   [2.40985832e+00]\n",
      "   [2.40926767e+00]\n",
      "   ...\n",
      "   [4.39375975e-08]\n",
      "   [2.74529467e-08]\n",
      "   [1.71544322e-08]]\n",
      "\n",
      "  [[2.41031840e+00]\n",
      "   [2.40985832e+00]\n",
      "   [2.40926767e+00]\n",
      "   ...\n",
      "   [4.39375975e-08]\n",
      "   [2.74529467e-08]\n",
      "   [1.71544322e-08]]\n",
      "\n",
      "  [[2.41031840e+00]\n",
      "   [2.40985832e+00]\n",
      "   [2.40926767e+00]\n",
      "   ...\n",
      "   [4.39375975e-08]\n",
      "   [2.74529467e-08]\n",
      "   [1.71544322e-08]]\n",
      "\n",
      "  ...\n",
      "\n",
      "  [[2.41031840e+00]\n",
      "   [2.40985832e+00]\n",
      "   [2.40926767e+00]\n",
      "   ...\n",
      "   [4.39375975e-08]\n",
      "   [2.74529467e-08]\n",
      "   [1.71544322e-08]]\n",
      "\n",
      "  [[2.41031840e+00]\n",
      "   [2.40985832e+00]\n",
      "   [2.40926767e+00]\n",
      "   ...\n",
      "   [4.39375975e-08]\n",
      "   [2.74529467e-08]\n",
      "   [1.71544322e-08]]\n",
      "\n",
      "  [[2.41031840e+00]\n",
      "   [2.40985832e+00]\n",
      "   [2.40926767e+00]\n",
      "   ...\n",
      "   [4.39375975e-08]\n",
      "   [2.74529467e-08]\n",
      "   [1.71544322e-08]]]\n",
      "\n",
      "\n",
      " [[[2.43601736e+00]\n",
      "   [2.43578467e+00]\n",
      "   [2.43548584e+00]\n",
      "   ...\n",
      "   [2.21961334e-08]\n",
      "   [1.38684042e-08]\n",
      "   [8.66584882e-09]]\n",
      "\n",
      "  [[2.43601736e+00]\n",
      "   [2.43578467e+00]\n",
      "   [2.43548584e+00]\n",
      "   ...\n",
      "   [2.21961334e-08]\n",
      "   [1.38684042e-08]\n",
      "   [8.66584882e-09]]\n",
      "\n",
      "  [[2.43601736e+00]\n",
      "   [2.43578467e+00]\n",
      "   [2.43548584e+00]\n",
      "   ...\n",
      "   [2.21961334e-08]\n",
      "   [1.38684042e-08]\n",
      "   [8.66584882e-09]]\n",
      "\n",
      "  ...\n",
      "\n",
      "  [[2.43601736e+00]\n",
      "   [2.43578467e+00]\n",
      "   [2.43548584e+00]\n",
      "   ...\n",
      "   [2.21961334e-08]\n",
      "   [1.38684042e-08]\n",
      "   [8.66584882e-09]]\n",
      "\n",
      "  [[2.43601736e+00]\n",
      "   [2.43578467e+00]\n",
      "   [2.43548584e+00]\n",
      "   ...\n",
      "   [2.21961334e-08]\n",
      "   [1.38684042e-08]\n",
      "   [8.66584882e-09]]\n",
      "\n",
      "  [[2.43601736e+00]\n",
      "   [2.43578467e+00]\n",
      "   [2.43548584e+00]\n",
      "   ...\n",
      "   [2.21961334e-08]\n",
      "   [1.38684042e-08]\n",
      "   [8.66584882e-09]]]\n",
      "\n",
      "\n",
      " [[[2.46173458e+00]\n",
      "   [2.46173458e+00]\n",
      "   [2.46173458e+00]\n",
      "   ...\n",
      "   [0.00000000e+00]\n",
      "   [0.00000000e+00]\n",
      "   [0.00000000e+00]]\n",
      "\n",
      "  [[2.46173458e+00]\n",
      "   [2.46173458e+00]\n",
      "   [2.46173458e+00]\n",
      "   ...\n",
      "   [0.00000000e+00]\n",
      "   [0.00000000e+00]\n",
      "   [0.00000000e+00]]\n",
      "\n",
      "  [[2.46173458e+00]\n",
      "   [2.46173458e+00]\n",
      "   [2.46173458e+00]\n",
      "   ...\n",
      "   [0.00000000e+00]\n",
      "   [0.00000000e+00]\n",
      "   [0.00000000e+00]]\n",
      "\n",
      "  ...\n",
      "\n",
      "  [[2.46173458e+00]\n",
      "   [2.46173458e+00]\n",
      "   [2.46173458e+00]\n",
      "   ...\n",
      "   [0.00000000e+00]\n",
      "   [0.00000000e+00]\n",
      "   [0.00000000e+00]]\n",
      "\n",
      "  [[2.46173458e+00]\n",
      "   [2.46173458e+00]\n",
      "   [2.46173458e+00]\n",
      "   ...\n",
      "   [0.00000000e+00]\n",
      "   [0.00000000e+00]\n",
      "   [0.00000000e+00]]\n",
      "\n",
      "  [[2.46173458e+00]\n",
      "   [2.46173458e+00]\n",
      "   [2.46173458e+00]\n",
      "   ...\n",
      "   [0.00000000e+00]\n",
      "   [0.00000000e+00]\n",
      "   [0.00000000e+00]]]]\n"
     ]
    },
    {
     "name": "stderr",
     "output_type": "stream",
     "text": [
      "/home/pawel1/anaconda3/envs/gammapy-0.18.2/lib/python3.7/site-packages/astropy/units/quantity.py:477: RuntimeWarning: divide by zero encountered in true_divide\n",
      "  result = super().__array_ufunc__(function, method, *arrays, **kwargs)\n",
      "/home/pawel1/anaconda3/envs/gammapy-0.18.2/lib/python3.7/site-packages/astropy/units/quantity.py:477: RuntimeWarning: invalid value encountered in sqrt\n",
      "  result = super().__array_ufunc__(function, method, *arrays, **kwargs)\n"
     ]
    }
   ],
   "source": [
    "evaluate_tau_blr(\n",
    "            nu,\n",
    "            z,\n",
    "            mu_s,\n",
    "            L_disk,\n",
    "            xi_line,\n",
    "            epsilon_line,\n",
    "            R_line,\n",
    "            r,\n",
    "            l_size=50,\n",
    "            mu=mu_to_integrate,\n",
    "            phi=phi_to_integrate,\n",
    "        )"
   ]
  },
  {
   "cell_type": "code",
   "execution_count": 5,
   "id": "240957f8",
   "metadata": {},
   "outputs": [
    {
     "data": {
      "text/plain": [
       "(100, 50, 50, 1)"
      ]
     },
     "execution_count": 5,
     "metadata": {},
     "output_type": "execute_result"
    }
   ],
   "source": [
    "integrand.shape"
   ]
  },
  {
   "cell_type": "code",
   "execution_count": 6,
   "id": "69b8943f",
   "metadata": {},
   "outputs": [
    {
     "data": {
      "text/plain": [
       "array([-1.        , -0.97979798, -0.95959596, -0.93939394, -0.91919192,\n",
       "       -0.8989899 , -0.87878788, -0.85858586, -0.83838384, -0.81818182,\n",
       "       -0.7979798 , -0.77777778, -0.75757576, -0.73737374, -0.71717172,\n",
       "       -0.6969697 , -0.67676768, -0.65656566, -0.63636364, -0.61616162,\n",
       "       -0.5959596 , -0.57575758, -0.55555556, -0.53535354, -0.51515152,\n",
       "       -0.49494949, -0.47474747, -0.45454545, -0.43434343, -0.41414141,\n",
       "       -0.39393939, -0.37373737, -0.35353535, -0.33333333, -0.31313131,\n",
       "       -0.29292929, -0.27272727, -0.25252525, -0.23232323, -0.21212121,\n",
       "       -0.19191919, -0.17171717, -0.15151515, -0.13131313, -0.11111111,\n",
       "       -0.09090909, -0.07070707, -0.05050505, -0.03030303, -0.01010101,\n",
       "        0.01010101,  0.03030303,  0.05050505,  0.07070707,  0.09090909,\n",
       "        0.11111111,  0.13131313,  0.15151515,  0.17171717,  0.19191919,\n",
       "        0.21212121,  0.23232323,  0.25252525,  0.27272727,  0.29292929,\n",
       "        0.31313131,  0.33333333,  0.35353535,  0.37373737,  0.39393939,\n",
       "        0.41414141,  0.43434343,  0.45454545,  0.47474747,  0.49494949,\n",
       "        0.51515152,  0.53535354,  0.55555556,  0.57575758,  0.5959596 ,\n",
       "        0.61616162,  0.63636364,  0.65656566,  0.67676768,  0.6969697 ,\n",
       "        0.71717172,  0.73737374,  0.75757576,  0.77777778,  0.7979798 ,\n",
       "        0.81818182,  0.83838384,  0.85858586,  0.87878788,  0.8989899 ,\n",
       "        0.91919192,  0.93939394,  0.95959596,  0.97979798,  1.        ])"
      ]
     },
     "execution_count": 6,
     "metadata": {},
     "output_type": "execute_result"
    }
   ],
   "source": [
    "mu"
   ]
  },
  {
   "cell_type": "code",
   "execution_count": 32,
   "id": "ac78c387",
   "metadata": {},
   "outputs": [],
   "source": [
    "res2, reserr2 = nquad(sigma, [[1.1,2]])"
   ]
  },
  {
   "cell_type": "code",
   "execution_count": 33,
   "id": "755b998b",
   "metadata": {},
   "outputs": [
    {
     "data": {
      "text/plain": [
       "1.3449059869058106e-29"
      ]
     },
     "execution_count": 33,
     "metadata": {},
     "output_type": "execute_result"
    }
   ],
   "source": [
    "res2"
   ]
  },
  {
   "cell_type": "code",
   "execution_count": 25,
   "id": "3c8025a0",
   "metadata": {},
   "outputs": [
    {
     "data": {
      "text/plain": [
       "6.6524587321e-29"
      ]
     },
     "execution_count": 25,
     "metadata": {},
     "output_type": "execute_result"
    }
   ],
   "source": [
    "sigma_T.value"
   ]
  },
  {
   "cell_type": "code",
   "execution_count": null,
   "id": "01768c30",
   "metadata": {},
   "outputs": [],
   "source": []
  }
 ],
 "metadata": {
  "kernelspec": {
   "display_name": "Python 3",
   "language": "python",
   "name": "python3"
  },
  "language_info": {
   "codemirror_mode": {
    "name": "ipython",
    "version": 3
   },
   "file_extension": ".py",
   "mimetype": "text/x-python",
   "name": "python",
   "nbconvert_exporter": "python",
   "pygments_lexer": "ipython3",
   "version": "3.7.0"
  }
 },
 "nbformat": 4,
 "nbformat_minor": 5
}
